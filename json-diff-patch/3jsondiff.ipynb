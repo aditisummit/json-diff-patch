{
 "cells": [
  {
   "cell_type": "code",
   "execution_count": 5,
   "metadata": {},
   "outputs": [],
   "source": [
    "import jsondiff\n",
    "import jsonpatch\n",
    "import json\n",
    "import json_tricks\n",
    "import logging\n",
    "#works for 1,2 , data !!!!!!\n",
    "\n"
   ]
  },
  {
   "cell_type": "code",
   "execution_count": 6,
   "metadata": {},
   "outputs": [],
   "source": [
    "\n",
    "with open(\"1.json\") as f1, open(\"2.json\") as f2:\n",
    "    file1 = json.load(f1)\n",
    "    file2 = json.load(f2)\n",
    "\n"
   ]
  },
  {
   "cell_type": "code",
   "execution_count": 7,
   "metadata": {},
   "outputs": [],
   "source": [
    "\n",
    "diff=jsondiff.diff(file1,file2)\n",
    "# print(diff)"
   ]
  },
  {
   "cell_type": "code",
   "execution_count": 8,
   "metadata": {},
   "outputs": [],
   "source": [
    "with open(\"data.json\") as f:\n",
    "    data = json.load(f)\n",
    "    \n",
    "\n",
    "new=jsondiff.patch(data,diff)\n",
    "# print(new)\n",
    "# LOGGER = logging.getLogger(\"root\")\n",
    "\n",
    "# LOGGER.info(new)\n",
    "with open(\"final-data.json\",\"w\") as ff:\n",
    "    json.dump(new, ff, indent=2)\n"
   ]
  }
 ],
 "metadata": {
  "kernelspec": {
   "display_name": "Python 3",
   "language": "python",
   "name": "python3"
  },
  "language_info": {
   "codemirror_mode": {
    "name": "ipython",
    "version": 3
   },
   "file_extension": ".py",
   "mimetype": "text/x-python",
   "name": "python",
   "nbconvert_exporter": "python",
   "pygments_lexer": "ipython3",
   "version": "3.9.13"
  },
  "orig_nbformat": 4,
  "vscode": {
   "interpreter": {
    "hash": "32caf615b9c7710e32c26f7ee7c968e15db492817864b18e9ba33d82dca4d8bf"
   }
  }
 },
 "nbformat": 4,
 "nbformat_minor": 2
}

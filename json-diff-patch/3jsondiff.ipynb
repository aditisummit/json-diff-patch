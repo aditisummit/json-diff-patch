{
 "cells": [
  {
   "cell_type": "code",
   "execution_count": 171,
   "metadata": {},
   "outputs": [],
   "source": [
    "import jsondiff\n",
    "# import json_diff\n",
    "import jsonpatch\n",
    "import json\n",
    "import json_tricks\n",
    "#works for 1,2 ,3 data !!!!!!\n",
    "import deepdiff\n"
   ]
  },
  {
   "cell_type": "code",
   "execution_count": 172,
   "metadata": {},
   "outputs": [],
   "source": [
    "\n",
    "# with open(\"old_config.json\") as f1, open(\"new_config.json\") as f2:\n",
    "#     file1 = json.load(f1)\n",
    "#     file2 = json.load(f2)\n",
    "with open(\"old_config.json\") as f1, open(\"new_config.json\") as f2:\n",
    "    file1 = json_tricks.load(f1,preserve_order=False)\n",
    "    file2 = json_tricks.load(f2,preserve_order=False)\n"
   ]
  },
  {
   "cell_type": "code",
   "execution_count": 173,
   "metadata": {},
   "outputs": [
    {
     "name": "stdout",
     "output_type": "stream",
     "text": [
      "{'templates': {0: {'groups': {0: {'sub_groups': {0: {'line_items': {4: {'ignore_for_consolidation': 'true'}}}}}, 1: {'sub_groups': {12: {'line_items': {0: {'style': {insert: [(2, 'section_break')]}}}}}}, 2: {'sub_groups': {0: {'line_items': {2: {'ctype': 'whole_number'}}}}}, 3: {'sub_groups': {3: {'line_items': {2: {'tag': 'Additional Annual Debt Service', 'label': 'Additional Annual Debt Service', 'fallback': {'label': 'Additional Annual Debt Service'}}, 3: {'tag': 'Additional Annual Debt Service', 'label': 'Additional Annual Debt Service', 'fallback': {'label': 'Additional Annual Debt Service'}}, 4: {'tag': 'Additional Annual Debt Service', 'label': 'Additional Annual Debt Service', 'fallback': {'label': 'Additional Annual Debt Service'}}, 5: {'tag': 'Additional Annual Debt Service', 'label': 'Additional Annual Debt Service', 'fallback': {'label': 'Additional Annual Debt Service'}}, 6: {'tag': 'Additional Annual Debt Service', 'label': 'Additional Annual Debt Service', 'fallback': {'label': 'Additional Annual Debt Service'}}}}}}}}}}\n"
     ]
    }
   ],
   "source": [
    "\n",
    "# diff=jsondiff.diff(file1,file2)\n",
    "diff=jsondiff.diff(file1,file2)\n",
    "print(diff)"
   ]
  },
  {
   "cell_type": "code",
   "execution_count": 174,
   "metadata": {},
   "outputs": [
    {
     "ename": "TypeError",
     "evalue": "unsupported operand type(s) for +: 'dict' and 'dict'",
     "output_type": "error",
     "traceback": [
      "\u001b[1;31m---------------------------------------------------------------------------\u001b[0m",
      "\u001b[1;31mTypeError\u001b[0m                                 Traceback (most recent call last)",
      "Cell \u001b[1;32mIn[174], line 10\u001b[0m\n\u001b[0;32m      6\u001b[0m new\u001b[39m=\u001b[39mjsondiff\u001b[39m.\u001b[39mpatch(data,diff)\n\u001b[0;32m      7\u001b[0m \u001b[39m# new=deepdiff.Delta(diff)\u001b[39;00m\n\u001b[1;32m---> 10\u001b[0m new\u001b[39m=\u001b[39mdata[\u001b[39m\"\u001b[39;49m\u001b[39mdetails\u001b[39;49m\u001b[39m\"\u001b[39;49m]\u001b[39m+\u001b[39;49mnew\n\u001b[0;32m     11\u001b[0m \u001b[39m# print(new)\u001b[39;00m\n\u001b[0;32m     12\u001b[0m \u001b[39m# new=jsonpatch.apply_patch(data,diff,in_place=True)\u001b[39;00m\n\u001b[0;32m     14\u001b[0m \u001b[39mwith\u001b[39;00m \u001b[39mopen\u001b[39m(\u001b[39m\"\u001b[39m\u001b[39mpayload_new.json\u001b[39m\u001b[39m\"\u001b[39m,\u001b[39m\"\u001b[39m\u001b[39mw\u001b[39m\u001b[39m\"\u001b[39m) \u001b[39mas\u001b[39;00m ff:\n",
      "\u001b[1;31mTypeError\u001b[0m: unsupported operand type(s) for +: 'dict' and 'dict'"
     ]
    }
   ],
   "source": [
    "with open(\"payload_old.json\") as f:\n",
    "    data = json.load(f)\n",
    "    \n",
    "\n",
    "\n",
    "new=jsondiff.patch(data,diff)\n",
    "# new=deepdiff.Delta(diff)\n",
    "\n",
    "\n",
    "new=data[\"details\"]+new\n",
    "# print(new)\n",
    "# new=jsonpatch.apply_patch(data,diff,in_place=True)\n",
    "\n",
    "with open(\"payload_new.json\",\"w\") as ff:\n",
    "    json.dump(new, ff, indent=2)\n"
   ]
  },
  {
   "cell_type": "code",
   "execution_count": null,
   "metadata": {},
   "outputs": [],
   "source": [
    "# print(new)"
   ]
  }
 ],
 "metadata": {
  "kernelspec": {
   "display_name": "Python 3",
   "language": "python",
   "name": "python3"
  },
  "language_info": {
   "codemirror_mode": {
    "name": "ipython",
    "version": 3
   },
   "file_extension": ".py",
   "mimetype": "text/x-python",
   "name": "python",
   "nbconvert_exporter": "python",
   "pygments_lexer": "ipython3",
   "version": "3.9.13"
  },
  "orig_nbformat": 4,
  "vscode": {
   "interpreter": {
    "hash": "32caf615b9c7710e32c26f7ee7c968e15db492817864b18e9ba33d82dca4d8bf"
   }
  }
 },
 "nbformat": 4,
 "nbformat_minor": 2
}
